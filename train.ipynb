{
 "cells": [
  {
   "cell_type": "code",
   "execution_count": null,
   "metadata": {},
   "outputs": [],
   "source": [
    "import os\n",
    "from util.postgres import getPlans\n",
    "def load_sql(query_path):\n",
    "    \"\"\"\n",
    "    :param file_list: list of query file in str\n",
    "    :return: list of sql query string\n",
    "    \"\"\"\n",
    "    sqls = []\n",
    "    with open(query_path, 'r') as f:\n",
    "        for line in f.readlines():\n",
    "            arr = line.strip().split(\"#####\")\n",
    "            sqls.append((arr[0], arr[1]))\n",
    "    print(\"Read\", len(sqls), \"test queries.\")\n",
    "    return sqls\n",
    "\n",
    "sqls = load_sql('./train/training_query/job.txt')\n",
    "for i,sql in enumerate(sqls):\n",
    "    print(i)\n",
    "    getPlans(sql[1], None,check_hint_used=False,ENABLE_LEON=True, curr_file=sql[0])"
   ]
  }
 ],
 "metadata": {
  "language_info": {
   "name": "python"
  }
 },
 "nbformat": 4,
 "nbformat_minor": 2
}
